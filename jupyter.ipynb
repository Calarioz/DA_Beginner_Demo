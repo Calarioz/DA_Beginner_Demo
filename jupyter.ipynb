{
 "cells": [
  {
   "cell_type": "markdown",
   "metadata": {},
   "source": [
    "##   Introduction\n",
    "\n",
    "With this first project we are going to practice a basic EDA using a dataset from the bootcamp ___TripleTen DataScienti Course___. We are going to compare the musical preferences between two cities Springfield and Shelbyville, and confirm the following hypothesis:\n",
    "\n",
    "- The activity of users differs depending on the day of the week and the city\n",
    "\n",
    "This project will consist of three stages:\n",
    "\n",
    "1. Data Description\n",
    "2. Data Preprocessing\n",
    "3. Hypothesis Testing\n",
    "\n"
   ]
  },
  {
   "cell_type": "markdown",
   "metadata": {},
   "source": [
    "## Data Description"
   ]
  },
  {
   "cell_type": "code",
   "execution_count": 19,
   "metadata": {},
   "outputs": [],
   "source": [
    "#Libraries\n",
    "\n",
    "import pandas as pd # Importar pandas\n",
    "import matplotlib.pyplot as plt"
   ]
  },
  {
   "cell_type": "code",
   "execution_count": 20,
   "metadata": {},
   "outputs": [
    {
     "data": {
      "text/html": [
       "<div>\n",
       "<style scoped>\n",
       "    .dataframe tbody tr th:only-of-type {\n",
       "        vertical-align: middle;\n",
       "    }\n",
       "\n",
       "    .dataframe tbody tr th {\n",
       "        vertical-align: top;\n",
       "    }\n",
       "\n",
       "    .dataframe thead th {\n",
       "        text-align: right;\n",
       "    }\n",
       "</style>\n",
       "<table border=\"1\" class=\"dataframe\">\n",
       "  <thead>\n",
       "    <tr style=\"text-align: right;\">\n",
       "      <th></th>\n",
       "      <th>userID</th>\n",
       "      <th>Track</th>\n",
       "      <th>artist</th>\n",
       "      <th>genre</th>\n",
       "      <th>City</th>\n",
       "      <th>time</th>\n",
       "      <th>Day</th>\n",
       "    </tr>\n",
       "  </thead>\n",
       "  <tbody>\n",
       "    <tr>\n",
       "      <th>54979</th>\n",
       "      <td>9714B719</td>\n",
       "      <td>All By Myself</td>\n",
       "      <td>Keisha Renee</td>\n",
       "      <td>pop</td>\n",
       "      <td>Springfield</td>\n",
       "      <td>20:54:00</td>\n",
       "      <td>Friday</td>\n",
       "    </tr>\n",
       "    <tr>\n",
       "      <th>53712</th>\n",
       "      <td>5B5D8EB4</td>\n",
       "      <td>Come Into My Heart (feat. Nina Hagen Louies Ta...</td>\n",
       "      <td>Loka Nunda</td>\n",
       "      <td>rock</td>\n",
       "      <td>Springfield</td>\n",
       "      <td>21:14:28</td>\n",
       "      <td>Wednesday</td>\n",
       "    </tr>\n",
       "    <tr>\n",
       "      <th>52826</th>\n",
       "      <td>EDF9637</td>\n",
       "      <td>Umbrella</td>\n",
       "      <td>Ember Island</td>\n",
       "      <td>pop</td>\n",
       "      <td>Springfield</td>\n",
       "      <td>09:44:07</td>\n",
       "      <td>Friday</td>\n",
       "    </tr>\n",
       "    <tr>\n",
       "      <th>967</th>\n",
       "      <td>837A6906</td>\n",
       "      <td>Crucify Me</td>\n",
       "      <td>Primal Fear</td>\n",
       "      <td>hard'n'heavy</td>\n",
       "      <td>Shelbyville</td>\n",
       "      <td>14:53:53</td>\n",
       "      <td>Wednesday</td>\n",
       "    </tr>\n",
       "    <tr>\n",
       "      <th>15846</th>\n",
       "      <td>73A470D</td>\n",
       "      <td>Carry You</td>\n",
       "      <td>Mac Powell</td>\n",
       "      <td>country</td>\n",
       "      <td>Springfield</td>\n",
       "      <td>09:07:20</td>\n",
       "      <td>Monday</td>\n",
       "    </tr>\n",
       "    <tr>\n",
       "      <th>58741</th>\n",
       "      <td>4B9DBE6</td>\n",
       "      <td>Big Bulge</td>\n",
       "      <td>Michael Landau</td>\n",
       "      <td>rock</td>\n",
       "      <td>Springfield</td>\n",
       "      <td>20:06:18</td>\n",
       "      <td>Friday</td>\n",
       "    </tr>\n",
       "    <tr>\n",
       "      <th>59216</th>\n",
       "      <td>6CAA6383</td>\n",
       "      <td>NaN</td>\n",
       "      <td>NaN</td>\n",
       "      <td>NaN</td>\n",
       "      <td>Springfield</td>\n",
       "      <td>21:32:17</td>\n",
       "      <td>Friday</td>\n",
       "    </tr>\n",
       "    <tr>\n",
       "      <th>16497</th>\n",
       "      <td>2F1DE39D</td>\n",
       "      <td>Time and a Place</td>\n",
       "      <td>Buju Banton</td>\n",
       "      <td>reggae</td>\n",
       "      <td>Shelbyville</td>\n",
       "      <td>13:29:23</td>\n",
       "      <td>Wednesday</td>\n",
       "    </tr>\n",
       "    <tr>\n",
       "      <th>49719</th>\n",
       "      <td>64984318</td>\n",
       "      <td>Booty Dance</td>\n",
       "      <td>Usssy</td>\n",
       "      <td>alternative</td>\n",
       "      <td>Springfield</td>\n",
       "      <td>13:56:13</td>\n",
       "      <td>Friday</td>\n",
       "    </tr>\n",
       "    <tr>\n",
       "      <th>30485</th>\n",
       "      <td>7E1BD966</td>\n",
       "      <td>God Damn</td>\n",
       "      <td>† krxst †</td>\n",
       "      <td>rusrap</td>\n",
       "      <td>Springfield</td>\n",
       "      <td>20:03:16</td>\n",
       "      <td>Friday</td>\n",
       "    </tr>\n",
       "  </tbody>\n",
       "</table>\n",
       "</div>"
      ],
      "text/plain": [
       "         userID                                              Track  \\\n",
       "54979  9714B719                                      All By Myself   \n",
       "53712  5B5D8EB4  Come Into My Heart (feat. Nina Hagen Louies Ta...   \n",
       "52826   EDF9637                                           Umbrella   \n",
       "967    837A6906                                         Crucify Me   \n",
       "15846   73A470D                                          Carry You   \n",
       "58741   4B9DBE6                                          Big Bulge   \n",
       "59216  6CAA6383                                                NaN   \n",
       "16497  2F1DE39D                                   Time and a Place   \n",
       "49719  64984318                                        Booty Dance   \n",
       "30485  7E1BD966                                           God Damn   \n",
       "\n",
       "               artist         genre       City        time        Day  \n",
       "54979    Keisha Renee           pop  Springfield  20:54:00     Friday  \n",
       "53712      Loka Nunda          rock  Springfield  21:14:28  Wednesday  \n",
       "52826    Ember Island           pop  Springfield  09:44:07     Friday  \n",
       "967       Primal Fear  hard'n'heavy  Shelbyville  14:53:53  Wednesday  \n",
       "15846      Mac Powell       country  Springfield  09:07:20     Monday  \n",
       "58741  Michael Landau          rock  Springfield  20:06:18     Friday  \n",
       "59216             NaN           NaN  Springfield  21:32:17     Friday  \n",
       "16497     Buju Banton        reggae  Shelbyville  13:29:23  Wednesday  \n",
       "49719           Usssy   alternative  Springfield  13:56:13     Friday  \n",
       "30485       † krxst †        rusrap  Springfield  20:03:16     Friday  "
      ]
     },
     "execution_count": 20,
     "metadata": {},
     "output_type": "execute_result"
    }
   ],
   "source": [
    "# DataSet\n",
    "df = pd.read_csv('music_project_en.csv') \n",
    "\n",
    "# Sample\n",
    "df.sample(10)"
   ]
  },
  {
   "cell_type": "code",
   "execution_count": 21,
   "metadata": {},
   "outputs": [
    {
     "name": "stdout",
     "output_type": "stream",
     "text": [
      "<class 'pandas.core.frame.DataFrame'>\n",
      "RangeIndex: 65079 entries, 0 to 65078\n",
      "Data columns (total 7 columns):\n",
      " #   Column    Non-Null Count  Dtype \n",
      "---  ------    --------------  ----- \n",
      " 0     userID  65079 non-null  object\n",
      " 1   Track     63736 non-null  object\n",
      " 2   artist    57512 non-null  object\n",
      " 3   genre     63881 non-null  object\n",
      " 4     City    65079 non-null  object\n",
      " 5   time      65079 non-null  object\n",
      " 6   Day       65079 non-null  object\n",
      "dtypes: object(7)\n",
      "memory usage: 3.5+ MB\n"
     ]
    }
   ],
   "source": [
    "# General info\n",
    "df.info()"
   ]
  },
  {
   "cell_type": "markdown",
   "metadata": {},
   "source": [
    "REMAKRS\n",
    "\n",
    "All fields names have the same datatype, and we have found the following corrections to do:\n",
    "- Blank spaces and capital letters in their field names.\n",
    "- There are missing values "
   ]
  },
  {
   "cell_type": "markdown",
   "metadata": {},
   "source": [
    "## Data Preprocessing"
   ]
  },
  {
   "cell_type": "code",
   "execution_count": 22,
   "metadata": {},
   "outputs": [
    {
     "name": "stdout",
     "output_type": "stream",
     "text": [
      "Before: Index(['  userID', 'Track', 'artist', 'genre', '  City  ', 'time', 'Day'], dtype='object')\n",
      "After: Index(['user_id', 'track', 'artist', 'genre', 'city', 'time', 'day'], dtype='object')\n"
     ]
    }
   ],
   "source": [
    "# Field names correction\n",
    "print(f\"Before: {df.columns}\")\n",
    "new_columns = [] \n",
    "\n",
    "\n",
    "for column in df.columns: \n",
    "    name_lower = column.lower() \n",
    "    name_no_strip = name_lower.strip() \n",
    "    new_columns.append(name_no_strip) \n",
    "\n",
    "df.columns = new_columns \n",
    "\n",
    "snake_case_columns = {\n",
    "    'userid': 'user_id',\n",
    "    }\n",
    "\n",
    "df.rename(columns = snake_case_columns, inplace = True) # Modificamos userid -> user_id\n",
    "\n",
    "print(f\"After: {df.columns}\")"
   ]
  },
  {
   "cell_type": "code",
   "execution_count": 23,
   "metadata": {},
   "outputs": [
    {
     "name": "stderr",
     "output_type": "stream",
     "text": [
      "C:\\Users\\JoseC\\AppData\\Local\\Temp\\ipykernel_6736\\3810165280.py:5: FutureWarning: A value is trying to be set on a copy of a DataFrame or Series through chained assignment using an inplace method.\n",
      "The behavior will change in pandas 3.0. This inplace method will never work because the intermediate object on which we are setting values always behaves as a copy.\n",
      "\n",
      "For example, when doing 'df[col].method(value, inplace=True)', try using 'df.method({col: value}, inplace=True)' or df[col] = df[col].method(value) instead, to perform the operation inplace on the original object.\n",
      "\n",
      "\n",
      "  df[column].fillna('unknown', inplace = True)\n"
     ]
    }
   ],
   "source": [
    "# Missing values replaces with 'unknown'\n",
    "columns_to_replace = ['track','artist','genre']\n",
    "\n",
    "for column in columns_to_replace:\n",
    "    df[column].fillna('unknown', inplace = True) \n"
   ]
  },
  {
   "cell_type": "code",
   "execution_count": 24,
   "metadata": {},
   "outputs": [
    {
     "name": "stdout",
     "output_type": "stream",
     "text": [
      "Duplicate fields: 0\n"
     ]
    }
   ],
   "source": [
    "# Drop explicit duplicates\n",
    "df.drop_duplicates(inplace = True)\n",
    "print(f\"Duplicate fields: {df.duplicated().sum()}\")"
   ]
  },
  {
   "cell_type": "code",
   "execution_count": 25,
   "metadata": {},
   "outputs": [
    {
     "name": "stdout",
     "output_type": "stream",
     "text": [
      "Values: ['acid' 'acoustic' 'action' 'adult' 'africa' 'afrikaans' 'alternative'\n",
      " 'ambient' 'americana' 'animated' 'anime' 'arabesk' 'arabic' 'arena'\n",
      " 'argentinetango' 'art' 'audiobook' 'avantgarde' 'axé' 'baile' 'balkan'\n",
      " 'beats' 'bigroom' 'black' 'bluegrass' 'blues' 'bollywood' 'bossa'\n",
      " 'brazilian' 'breakbeat' 'breaks' 'broadway' 'cantautori' 'cantopop'\n",
      " 'canzone' 'caribbean' 'caucasian' 'celtic' 'chamber' 'children' 'chill'\n",
      " 'chinese' 'choral' 'christian' 'christmas' 'classical' 'classicmetal'\n",
      " 'club' 'colombian' 'comedy' 'conjazz' 'contemporary' 'country' 'cuban'\n",
      " 'dance' 'dancehall' 'dancepop' 'dark' 'death' 'deep' 'deutschrock'\n",
      " 'deutschspr' 'dirty' 'disco' 'dnb' 'documentary' 'downbeat' 'downtempo'\n",
      " 'drum' 'dub' 'dubstep' 'eastern' 'easy' 'electronic' 'electropop' 'emo'\n",
      " 'entehno' 'epicmetal' 'estrada' 'ethnic' 'eurofolk' 'european'\n",
      " 'experimental' 'extrememetal' 'fado' 'film' 'fitness' 'flamenco' 'folk'\n",
      " 'folklore' 'folkmetal' 'folkrock' 'folktronica' 'forró' 'frankreich'\n",
      " 'französisch' 'french' 'funk' 'future' 'gangsta' 'garage' 'german'\n",
      " 'ghazal' 'gitarre' 'glitch' 'gospel' 'gothic' 'grime' 'grunge' 'gypsy'\n",
      " 'handsup' \"hard'n'heavy\" 'hardcore' 'hardstyle' 'hardtechno' 'hip'\n",
      " 'hip-hop' 'hiphop' 'historisch' 'holiday' 'hop' 'horror' 'house' 'idm'\n",
      " 'independent' 'indian' 'indie' 'indipop' 'industrial' 'inspirational'\n",
      " 'instrumental' 'international' 'irish' 'jam' 'japanese' 'jazz' 'jewish'\n",
      " 'jpop' 'jungle' 'k-pop' 'karadeniz' 'karaoke' 'kayokyoku' 'korean'\n",
      " 'laiko' 'latin' 'latino' 'leftfield' 'local' 'lounge' 'loungeelectronic'\n",
      " 'lovers' 'malaysian' 'mandopop' 'marschmusik' 'meditative'\n",
      " 'mediterranean' 'melodic' 'metal' 'metalcore' 'mexican' 'middle'\n",
      " 'minimal' 'miscellaneous' 'modern' 'mood' 'mpb' 'muslim' 'native'\n",
      " 'neoklassik' 'neue' 'new' 'newage' 'newwave' 'nu' 'nujazz' 'numetal'\n",
      " 'oceania' 'old' 'opera' 'orchestral' 'other' 'piano' 'pop'\n",
      " 'popelectronic' 'popeurodance' 'post' 'posthardcore' 'postrock' 'power'\n",
      " 'progmetal' 'progressive' 'psychedelic' 'punjabi' 'punk' 'quebecois'\n",
      " 'ragga' 'ram' 'rancheras' 'rap' 'rave' 'reggae' 'reggaeton' 'regional'\n",
      " 'relax' 'religious' 'retro' 'rhythm' 'rnb' 'rnr' 'rock' 'rockabilly'\n",
      " 'romance' 'roots' 'ruspop' 'rusrap' 'rusrock' 'salsa' 'samba' 'schlager'\n",
      " 'self' 'sertanejo' 'shoegazing' 'showtunes' 'singer' 'ska' 'slow'\n",
      " 'smooth' 'soul' 'soulful' 'sound' 'soundtrack' 'southern' 'specialty'\n",
      " 'speech' 'spiritual' 'sport' 'stonerrock' 'surf' 'swing' 'synthpop'\n",
      " 'sängerportrait' 'tango' 'tanzorchester' 'taraftar' 'tech' 'techno'\n",
      " 'thrash' 'top' 'traditional' 'tradjazz' 'trance' 'tribal' 'trip'\n",
      " 'triphop' 'tropical' 'türk' 'türkçe' 'unknown' 'urban' 'uzbek' 'variété'\n",
      " 'vi' 'videogame' 'vocal' 'western' 'world' 'worldbeat' 'ïîï']\n"
     ]
    }
   ],
   "source": [
    "# Reviewing unique values\n",
    "genre_values = df.sort_values(by='genre')['genre'].unique() # Sort\n",
    "n_unique_values = df.sort_values(by='genre')['genre'].nunique() # Unique\n",
    "\n",
    "print('Values:', genre_values)\n"
   ]
  },
  {
   "cell_type": "markdown",
   "metadata": {},
   "source": [
    "After reviewing the data and to simplify this demo, we are going to replace only the values ___hip,hip-hop and hop___ for ___hiphop___"
   ]
  },
  {
   "cell_type": "code",
   "execution_count": 26,
   "metadata": {},
   "outputs": [],
   "source": [
    "# Function to remove implicit duplicates\n",
    "def replace_wrong_genres(wrong_genres,correct_genre):\n",
    "    for wrong_genre in wrong_genres:\n",
    "        df['genre'].replace(wrong_genre,correct_genre, inplace=True)\n",
    "    return df"
   ]
  },
  {
   "cell_type": "code",
   "execution_count": 27,
   "metadata": {},
   "outputs": [
    {
     "name": "stdout",
     "output_type": "stream",
     "text": [
      "Unique values Before:  269\n",
      "Unique values After:  266\n"
     ]
    },
    {
     "name": "stderr",
     "output_type": "stream",
     "text": [
      "C:\\Users\\JoseC\\AppData\\Local\\Temp\\ipykernel_6736\\3719554245.py:4: FutureWarning: A value is trying to be set on a copy of a DataFrame or Series through chained assignment using an inplace method.\n",
      "The behavior will change in pandas 3.0. This inplace method will never work because the intermediate object on which we are setting values always behaves as a copy.\n",
      "\n",
      "For example, when doing 'df[col].method(value, inplace=True)', try using 'df.method({col: value}, inplace=True)' or df[col] = df[col].method(value) instead, to perform the operation inplace on the original object.\n",
      "\n",
      "\n",
      "  df['genre'].replace(wrong_genre,correct_genre, inplace=True)\n"
     ]
    }
   ],
   "source": [
    "print('Unique values Before: ', n_unique_values)\n",
    "\n",
    "duplicates = ['hip','hop','hip-hop'] \n",
    "correct_genre = 'hiphop'\n",
    "\n",
    "replace_wrong_genres(duplicates,correct_genre) #Le pasamos los argumentos a la función\n",
    "\n",
    "\n",
    "genre_values = df.sort_values(by='genre')['genre'].unique() #Ordenamos y extramos los valores únicos de genre\n",
    "n_unique_values = df.sort_values(by='genre')['genre'].nunique() # Contamos la cantidad de valores unicos de genre\n",
    "\n",
    "print('Unique values After: ', n_unique_values)\n"
   ]
  },
  {
   "cell_type": "markdown",
   "metadata": {},
   "source": [
    "## Hypothesis Testing\n",
    "\n",
    "For this section, we are going to create some chart to review the information before working on the hypothesis"
   ]
  },
  {
   "cell_type": "code",
   "execution_count": 89,
   "metadata": {},
   "outputs": [
    {
     "data": {
      "text/plain": [
       "Text(0, 0.5, '# Songs played')"
      ]
     },
     "execution_count": 89,
     "metadata": {},
     "output_type": "execute_result"
    },
    {
     "data": {
      "image/png": "[encoded data removed]",
      "text/plain": [
       "<Figure size 640x480 with 1 Axes>"
      ]
     },
     "metadata": {},
     "output_type": "display_data"
    }
   ],
   "source": [
    "# Chart #1\n",
    "city = df.groupby('city')['genre'].count()\n",
    "city.plot(kind='bar', color=['skyblue','lightgreen'])\n",
    "\n",
    "plt.title(\"Total music played per city \")\n",
    "plt.xlabel(\"Cities\")\n",
    "plt.ylabel(\"# Songs played\")\n"
   ]
  },
  {
   "cell_type": "code",
   "execution_count": 90,
   "metadata": {},
   "outputs": [
    {
     "data": {
      "text/plain": [
       "Text(0, 0.5, '# Songs played')"
      ]
     },
     "execution_count": 90,
     "metadata": {},
     "output_type": "execute_result"
    },
    {
     "data": {
      "image/png": "[encoded data removed]",
      "text/plain": [
       "<Figure size 1000x600 with 1 Axes>"
      ]
     },
     "metadata": {},
     "output_type": "display_data"
    }
   ],
   "source": [
    "#Chart #2\n",
    "day = df.groupby('day')['genre'].count()\n",
    "day.plot(kind='bar', figsize=(10, 6), color=['darkgreen','green','seagreen'])\n",
    "\n",
    "plt.title(\"Total music played per day \")\n",
    "plt.xlabel(\"Day of the week\")\n",
    "plt.ylabel(\"# Songs played\")"
   ]
  },
  {
   "cell_type": "code",
   "execution_count": 84,
   "metadata": {},
   "outputs": [],
   "source": [
    "#Create a new DataSet\n",
    "sp_data = df[df['city'] == 'Springfield'].groupby('day').count().reset_index()[['day','genre']]\n",
    "sv_data = df[df['city'] == 'Shelbyville'].groupby('day').count().reset_index()[['day','genre']]\n",
    "\n",
    "cities = sp_data.merge(sv_data, on ='day', how='left')\n",
    "cities = cities.set_index('day')\n",
    "\n",
    "cities.rename(columns={\n",
    "    'genre_x': 'Springfield',\n",
    "    'genre_y':'Shelbyville'\n",
    "}, inplace=True)"
   ]
  },
  {
   "cell_type": "code",
   "execution_count": 93,
   "metadata": {},
   "outputs": [
    {
     "data": {
      "text/plain": [
       "Text(0, 0.5, '# Songs played')"
      ]
     },
     "execution_count": 93,
     "metadata": {},
     "output_type": "execute_result"
    },
    {
     "data": {
      "image/png": "[encoded data removed]",
      "text/plain": [
       "<Figure size 640x480 with 1 Axes>"
      ]
     },
     "metadata": {},
     "output_type": "display_data"
    }
   ],
   "source": [
    "# Chart #3\n",
    "cities.plot(kind='bar', color=['Lightgreen','skyblue'])\n",
    "\n",
    "plt.title('Day-City music played distribution')\n",
    "plt.xlabel('Day of the week')\n",
    "plt.ylabel('# Songs played')"
   ]
  },
  {
   "cell_type": "markdown",
   "metadata": {},
   "source": [
    "REMAKRS\n",
    "\n",
    "In regards of the original hypothesis \"The activity of users differs depending on the day of the week and the city\" we have found the following:\n",
    "\n",
    "- There is a higher trend in the number of plays on Mondays and Fridays in Springfield.\n",
    "- There is a higher trend in the number of plays on Wednesdays in Shelbyville.\n",
    "- Around 30% of all plays are made by Shelbyville (18,512 plays).\n",
    "- Around 70% of all plays are made by Springfield (42,741 plays)."
   ]
  }
 ],
 "metadata": {
  "kernelspec": {
   "display_name": "Python 3",
   "language": "python",
   "name": "python3"
  },
  "language_info": {
   "codemirror_mode": {
    "name": "ipython",
    "version": 3
   },
   "file_extension": ".py",
   "mimetype": "text/x-python",
   "name": "python",
   "nbconvert_exporter": "python",
   "pygments_lexer": "ipython3",
   "version": "3.11.9"
  }
 },
 "nbformat": 4,
 "nbformat_minor": 2
}
